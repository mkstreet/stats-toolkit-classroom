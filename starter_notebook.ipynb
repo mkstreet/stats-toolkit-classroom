{
 "cells": [
  {
   "cell_type": "markdown",
   "id": "c93c2f48",
   "metadata": {},
   "source": [
    "# 📦 Safe Import of `data_toolkit.py` with Auto-Reload and MD5 Check"
   ]
  },
  {
   "cell_type": "code",
   "execution_count": null,
   "id": "01b2eb7e",
   "metadata": {},
   "outputs": [],
   "source": [
    "import hashlib, os, sys, importlib\n",
    "from urllib.request import urlretrieve\n",
    "\n",
    "URL = \"https://raw.githubusercontent.com/mkstreet/stats-toolkit-classroom/main/data_toolkit.py\"\n",
    "LOCAL_FILE = \"data_toolkit.py\"\n",
    "\n",
    "# Get MD5 hash\n",
    "def compute_md5(path):\n",
    "    if not os.path.exists(path):\n",
    "        return None\n",
    "    with open(path, \"rb\") as f:\n",
    "        return hashlib.md5(f.read()).hexdigest()\n",
    "\n",
    "old_hash = compute_md5(LOCAL_FILE)\n",
    "\n",
    "# Download latest version\n",
    "urlretrieve(URL, LOCAL_FILE)\n",
    "\n",
    "new_hash = compute_md5(LOCAL_FILE)\n",
    "print(\"🔁 File changed!\" if old_hash != new_hash else \"✅ File already up to date.\")\n",
    "\n",
    "# Force reload from disk\n",
    "if \"data_toolkit\" in sys.modules:\n",
    "    del sys.modules[\"data_toolkit\"]\n",
    "\n",
    "import data_toolkit\n",
    "importlib.reload(data_toolkit)\n",
    "from data_toolkit import *"
   ]
  }
 ],
 "metadata": {},
 "nbformat": 4,
 "nbformat_minor": 5
}